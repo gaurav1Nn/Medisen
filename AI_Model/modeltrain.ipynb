{
 "cells": [
  {
   "cell_type": "code",
   "execution_count": 19,
   "id": "59a56b17-c250-48e4-82b0-ef0fc72139dc",
   "metadata": {},
   "outputs": [],
   "source": [
    "# all necessary imports\n",
    "import warnings\n",
    "from decimal import Decimal\n",
    "import pandas as pd\n",
    "from sklearn.tree import DecisionTreeClassifier\n",
    "from sklearn.linear_model import LogisticRegression\n",
    "from sklearn.neighbors import KNeighborsClassifier\n",
    "from sklearn.svm import SVC\n",
    "from sklearn.metrics import accuracy_score\n",
    "from sklearn.model_selection import train_test_split, cross_val_score\n",
    "from sklearn.model_selection import GridSearchCV\n",
    "from sklearn.naive_bayes import MultinomialNB     \n",
    "from sklearn.ensemble import RandomForestClassifier\n",
    "from sklearn.neural_network import MLPClassifier\n",
    "#from xgboost import XGBClassifier\n",
    "import matplotlib.pyplot as plt\n",
    "# ignore warnings generated due to usage of old version of tensorflow\n",
    "warnings.simplefilter(\"ignore\")"
   ]
  },
  {
   "cell_type": "code",
   "execution_count": null,
   "id": "88a3dd7f-06aa-44da-8907-5bc9554bff6b",
   "metadata": {},
   "outputs": [],
   "source": [
    "df_comb = pd.read_csv(\"dis_sym_dataset_comb.csv\")\n",
    "\n",
    "X = df_comb.iloc[:, 1:]\n",
    "Y = df_comb.iloc[:, 0:1]"
   ]
  },
  {
   "cell_type": "code",
   "execution_count": null,
   "id": "20f8bfff-73b3-41ce-8665-d82a24d4eb44",
   "metadata": {},
   "outputs": [],
   "source": [
    "\n",
    "x_train, x_test, y_train, y_test = train_test_split(X, Y, test_size=0.10)"
   ]
  },
  {
   "cell_type": "code",
   "execution_count": null,
   "id": "8cba8aba-771e-4ee5-85a2-b7f870aad898",
   "metadata": {},
   "outputs": [],
   "source": [
    "\n",
    "accuracy_list = []\n",
    "cross_accuracy_list = []\n",
    "model_list = []"
   ]
  },
  {
   "cell_type": "code",
   "execution_count": 35,
   "id": "f4fd414f-8952-44f8-bb77-71c545075eea",
   "metadata": {},
   "outputs": [
    {
     "name": "stdout",
     "output_type": "stream",
     "text": [
      "Accuracy (RF) : 90.50%\n",
      "Cross Validation Accuracy (RF): 87.04%\n"
     ]
    }
   ],
   "source": [
    "# RF Classifier\n",
    "rf = RandomForestClassifier(n_estimators=10, criterion='entropy')\n",
    "rf = rf.fit(X, Y)\n",
    "# prediction of labels for the test data\n",
    "rf_pred = rf.predict(x_test)\n",
    "acc_rf = round(Decimal(accuracy_score(y_test, rf_pred) * 100), 2)\n",
    "accuracy_list.append(acc_rf)\n",
    "model_list.append(\"RF\")\n",
    "print(f\"Accuracy (RF) : {acc_rf}%\")\n",
    "\n",
    "# Cross Validation Accuracy RF\n",
    "# performing cross validation with 5 different splits\n",
    "scores_rf = cross_val_score(rf, X, Y, cv=5)\n",
    "# mean of cross val score (accuracy)\n",
    "score = round(Decimal(scores_rf.mean() * 100), 2)\n",
    "cross_accuracy_list.append(score)\n",
    "print(f\"Cross Validation Accuracy (RF): {score}%\")"
   ]
  },
  {
   "cell_type": "code",
   "execution_count": null,
   "id": "f9711784-9eeb-46c2-bb8e-b4b323d29ff6",
   "metadata": {},
   "outputs": [],
   "source": []
  },
  {
   "cell_type": "code",
   "execution_count": 36,
   "id": "bfb56e26-26c8-4b64-bb78-4bdedecd6da6",
   "metadata": {},
   "outputs": [
    {
     "name": "stdout",
     "output_type": "stream",
     "text": [
      "Accuracy (KNN) : 91.06%\n",
      "Cross Validation Accuracy (KNN): 85.25%\n"
     ]
    }
   ],
   "source": [
    "# KNN Classifier\n",
    "knn = KNeighborsClassifier(n_neighbors=7, weights='distance', n_jobs=4)\n",
    "knn = knn.fit(X, Y)\n",
    "# prediction of labels for the test data\n",
    "knn_pred = knn.predict(x_test)\n",
    "acc_knn = round(Decimal(accuracy_score(y_test, knn_pred) * 100), 2)\n",
    "accuracy_list.append(acc_knn)\n",
    "model_list.append(\"KNN\")\n",
    "print(f\"Accuracy (KNN) : {acc_knn}%\")\n",
    "\n",
    "# Cross Validation Accuracy KNN\n",
    "# performing cross validation with 5 different splits\n",
    "scores_knn = cross_val_score(knn, X, Y, cv=5)\n",
    "# mean of cross val score (accuracy)\n",
    "score = round(Decimal(scores_knn.mean() * 100), 2)\n",
    "cross_accuracy_list.append(score)\n",
    "print(f\"Cross Validation Accuracy (KNN): {score}%\")"
   ]
  },
  {
   "cell_type": "code",
   "execution_count": 37,
   "id": "8e67b311-b351-4a31-9d52-549fffcbc5d2",
   "metadata": {},
   "outputs": [
    {
     "name": "stdout",
     "output_type": "stream",
     "text": [
      "Accuracy (DT) : 90.95%\n",
      "Cross Validation Accuracy (DT): 83.67%\n"
     ]
    }
   ],
   "source": [
    "# DT Classifier\n",
    "dt = DecisionTreeClassifier()\n",
    "dt = dt.fit(X, Y)\n",
    "# prediction of labels for the test data\n",
    "dt_pred = dt.predict(x_test)\n",
    "acc_dt = round(Decimal(accuracy_score(y_test, dt_pred) * 100), 2)\n",
    "accuracy_list.append(acc_dt)\n",
    "model_list.append(\"DT\")\n",
    "print(f\"Accuracy (DT) : {acc_dt}%\")\n",
    "\n",
    "# Cross Validation Accuracy DT\n",
    "# performing cross validation with 5 different splits\n",
    "scores_dt = cross_val_score(dt, X, Y, cv=5)\n",
    "# mean of cross val score (accuracy)\n",
    "score = round(Decimal(scores_dt.mean() * 100), 2)\n",
    "cross_accuracy_list.append(score)\n",
    "print(f\"Cross Validation Accuracy (DT): {score}%\")"
   ]
  },
  {
   "cell_type": "code",
   "execution_count": 38,
   "id": "d740ab1a-3571-4698-b0ad-1a4639a44475",
   "metadata": {},
   "outputs": [
    {
     "name": "stdout",
     "output_type": "stream",
     "text": [
      "Predicted disease: Anthrax\n",
      "Accuracy of KNN model: 84.73%\n"
     ]
    }
   ],
   "source": [
    "# Load Dataset (assuming it's the same dataset)\n",
    "df_comb = pd.read_csv(\"dis_sym_dataset_comb.csv\")\n",
    "\n",
    "# Separate features (X) and labels (Y)\n",
    "X = df_comb.iloc[:, 1:]  # All columns except the first one\n",
    "Y = df_comb.iloc[:, 0]   # First column (assumed as the label)\n",
    "\n",
    "# Split the data into training and testing sets\n",
    "x_train, x_test, y_train, y_test = train_test_split(X, Y, test_size=0.10, random_state=42)\n",
    "\n",
    "# Train the KNN model\n",
    "knn = KNeighborsClassifier(n_neighbors=7, weights='distance', n_jobs=4)\n",
    "knn.fit(x_train, y_train)\n",
    "\n",
    "# Input symptoms dictionary provided by the user\n",
    "input_symptoms = {\n",
    "    'chest pain': 1,  # Shortness of breath (1 = present, 0 = absent)\n",
    "    'shortness breath': 1   # Chest pain (1 = present, 0 = absent)\n",
    "}\n",
    "\n",
    "# Create a new input data point with all features (set default 0 for other symptoms)\n",
    "input_data = pd.DataFrame([[0]*len(X.columns)], columns=X.columns)\n",
    "\n",
    "# Update the input data with the values from input_symptoms\n",
    "for symptom, value in input_symptoms.items():\n",
    "    if symptom in input_data.columns:\n",
    "        input_data[symptom] = value\n",
    "    else:\n",
    "        print(f\"Warning: {symptom} not found in dataset columns.\")\n",
    "\n",
    "# Predict the result using the trained KNN model\n",
    "prediction = knn.predict(input_data)\n",
    "\n",
    "# Print the predicted result (replace this with actual disease prediction logic)\n",
    "print(f\"Predicted disease: {prediction[0]}\")\n",
    "\n",
    "# Calculate accuracy of the model on the test set\n",
    "knn_pred = knn.predict(x_test)\n",
    "acc_knn = round(Decimal(accuracy_score(y_test, knn_pred) * 100), 2)\n",
    "print(f\"Accuracy of KNN model: {acc_knn}%\")\n"
   ]
  },
  {
   "cell_type": "code",
   "execution_count": 39,
   "id": "69ef79bd-1bc2-477f-9e1a-7b4b3fd5907a",
   "metadata": {},
   "outputs": [
    {
     "name": "stdout",
     "output_type": "stream",
     "text": [
      "Predicted disease (Decision Tree): Anthrax\n",
      "Accuracy of Decision Tree model: 81.45%\n"
     ]
    }
   ],
   "source": [
    "# Load Dataset (assuming it's the same dataset)\n",
    "df_comb = pd.read_csv(\"dis_sym_dataset_comb.csv\")\n",
    "\n",
    "# Separate features (X) and labels (Y)\n",
    "X = df_comb.iloc[:, 1:]  # All columns except the first one\n",
    "Y = df_comb.iloc[:, 0]   # First column (assumed as the label)\n",
    "\n",
    "# Split the data into training and testing sets\n",
    "x_train, x_test, y_train, y_test = train_test_split(X, Y, test_size=0.10, random_state=42)\n",
    "\n",
    "# Train the Decision Tree model\n",
    "decision_tree = DecisionTreeClassifier(random_state=42)\n",
    "decision_tree.fit(x_train, y_train)\n",
    "\n",
    "# Input symptoms dictionary provided by the user (Update these values based on column names)\n",
    "input_symptoms = {\n",
    "    'chest pain': 1,  # Shortness of breath\n",
    "    'shortness breath': 1   # Chest pain\n",
    "}\n",
    "\n",
    "# Create a new input data point with all features (set default 0 for other symptoms)\n",
    "input_data = pd.DataFrame([[0]*len(X.columns)], columns=X.columns)\n",
    "\n",
    "# Update the input data with the values from input_symptoms\n",
    "for symptom, value in input_symptoms.items():\n",
    "    if symptom in input_data.columns:\n",
    "        input_data[symptom] = value\n",
    "    else:\n",
    "        print(f\"Warning: {symptom} not found in dataset columns.\")\n",
    "\n",
    "# Predict the result using the trained Decision Tree model\n",
    "prediction = decision_tree.predict(input_data)\n",
    "\n",
    "# Print the predicted result (replace this with actual disease prediction logic)\n",
    "print(f\"Predicted disease (Decision Tree): {prediction[0]}\")\n",
    "\n",
    "# Calculate accuracy of the Decision Tree model on the test set\n",
    "dt_pred = decision_tree.predict(x_test)\n",
    "acc_dt = round(Decimal(accuracy_score(y_test, dt_pred) * 100), 2)\n",
    "print(f\"Accuracy of Decision Tree model: {acc_dt}%\")\n"
   ]
  },
  {
   "cell_type": "code",
   "execution_count": 40,
   "id": "288e9bc6-fc56-4ee6-abf3-6696094305f7",
   "metadata": {},
   "outputs": [
    {
     "name": "stdout",
     "output_type": "stream",
     "text": [
      "Predicted disease (Random Forest): Lung cancer\n",
      "Accuracy of Random Forest model: 87.78%\n"
     ]
    }
   ],
   "source": [
    "# Load Dataset (assuming it's the same dataset)\n",
    "df_comb = pd.read_csv(\"dis_sym_dataset_comb.csv\")\n",
    "\n",
    "# Separate features (X) and labels (Y)\n",
    "X = df_comb.iloc[:, 1:]  # All columns except the first one\n",
    "Y = df_comb.iloc[:, 0]   # First column (assumed as the label)\n",
    "\n",
    "# Split the data into training and testing sets\n",
    "x_train, x_test, y_train, y_test = train_test_split(X, Y, test_size=0.10, random_state=42)\n",
    "\n",
    "# Train the Random Forest model\n",
    "random_forest = RandomForestClassifier(n_estimators=100, random_state=42)\n",
    "random_forest.fit(x_train, y_train)\n",
    "\n",
    "# Input symptoms dictionary provided by the user (Update these values based on column names)\n",
    "input_symptoms = {\n",
    "    'chest pain': 1,  # Shortness of breath\n",
    "    'shortness breath': 1   # Chest pain\n",
    "}\n",
    "\n",
    "# Create a new input data point with all features (set default 0 for other symptoms)\n",
    "input_data = pd.DataFrame([[0]*len(X.columns)], columns=X.columns)\n",
    "\n",
    "# Update the input data with the values from input_symptoms\n",
    "for symptom, value in input_symptoms.items():\n",
    "    if symptom in input_data.columns:\n",
    "        input_data[symptom] = value\n",
    "    else:\n",
    "        print(f\"Warning: {symptom} not found in dataset columns.\")\n",
    "\n",
    "# Predict the result using the trained Random Forest model\n",
    "prediction = random_forest.predict(input_data)\n",
    "\n",
    "# Print the predicted result (replace this with actual disease prediction logic)\n",
    "print(f\"Predicted disease (Random Forest): {prediction[0]}\")\n",
    "\n",
    "# Calculate accuracy of the Random Forest model on the test set\n",
    "rf_pred = random_forest.predict(x_test)\n",
    "acc_rf = round(Decimal(accuracy_score(y_test, rf_pred) * 100), 2)\n",
    "print(f\"Accuracy of Random Forest model: {acc_rf}%\")\n"
   ]
  },
  {
   "cell_type": "code",
   "execution_count": null,
   "id": "1ee99663-a1ce-474d-9326-bea1f857fd42",
   "metadata": {},
   "outputs": [
    {
     "name": "stdout",
     "output_type": "stream",
     "text": [
      "Predicted disease (Random Forest): Bronchitis\n",
      "Accuracy of Random Forest model: 87.78%\n"
     ]
    }
   ],
   "source": [
    "\n",
    "df_comb = pd.read_csv(\"dis_sym_dataset_comb.csv\")\n",
    "X = df_comb.iloc[:, 1:]  # All columns except the first one\n",
    "Y = df_comb.iloc[:, 0]  \n",
    "x_train, x_test, y_train, y_test = train_test_split(X, Y, test_size=0.10, random_state=42)\n",
    "\n",
    "random_forest = RandomForestClassifier(n_estimators=100, random_state=42)\n",
    "random_forest.fit(x_train, y_train)\n",
    "\n",
    "input_symptoms = {\n",
    "    'shortness breath': 1,  # Shortness of breath\n",
    "    \n",
    "}\n",
    "\n",
    "input_data = pd.DataFrame([[0]*len(X.columns)], columns=X.columns)\n",
    "for symptom, value in input_symptoms.items():\n",
    "    if symptom in input_data.columns:\n",
    "        input_data[symptom] = value\n",
    "    else:\n",
    "        print(f\"Warning: {symptom} not found in dataset columns.\")\n",
    "\n",
    "prediction = random_forest.predict(input_data)\n",
    "\n",
    "print(f\"Predicted disease (Random Forest): {prediction[0]}\")\n",
    "\n",
    "rf_pred = random_forest.predict(x_test)\n",
    "acc_rf = round(Decimal(accuracy_score(y_test, rf_pred) * 100), 2)\n",
    "print(f\"Accuracy of Random Forest model: {acc_rf}%\")\n"
   ]
  },
  {
   "cell_type": "code",
   "execution_count": null,
   "id": "8626623d-dbff-475a-9dbd-1558d5cfc503",
   "metadata": {},
   "outputs": [
    {
     "name": "stdout",
     "output_type": "stream",
     "text": [
      "Predicted disease (Decision Tree): Influenza\n",
      "Accuracy of Decision Tree model: 81.45%\n"
     ]
    }
   ],
   "source": [
    "\n",
    "df_comb = pd.read_csv(\"dis_sym_dataset_comb.csv\")\n",
    "\n",
    "\n",
    "X = df_comb.iloc[:, 1:]  # columns except the first one\n",
    "Y = df_comb.iloc[:, 0]   # column \n",
    "x_train, x_test, y_train, y_test = train_test_split(X, Y, test_size=0.10, random_state=42)\n",
    "\n",
    "decision_tree = DecisionTreeClassifier(random_state=42)\n",
    "decision_tree.fit(x_train, y_train)\n",
    "\n",
    "input_symptoms = {\n",
    "    'fever': 1,  \n",
    "    'headache': 1,\n",
    "    'runny nose':1,\n",
    "}\n",
    "input_data = pd.DataFrame([[0]*len(X.columns)], columns=X.columns)\n",
    "for symptom, value in input_symptoms.items():\n",
    "    if symptom in input_data.columns:\n",
    "        input_data[symptom] = value\n",
    "    else:\n",
    "        print(f\"Warning: {symptom} not found in dataset columns.\")\n",
    "\n",
    "prediction = decision_tree.predict(input_data)\n",
    "\n",
    "\n",
    "print(f\"Predicted disease (Decision Tree): {prediction[0]}\")\n",
    "\n",
    "dt_pred = decision_tree.predict(x_test)\n",
    "acc_dt = round(Decimal(accuracy_score(y_test, dt_pred) * 100), 2)\n",
    "print(f\"Accuracy of Decision Tree model: {acc_dt}%\")"
   ]
  },
  {
   "cell_type": "code",
   "execution_count": null,
   "id": "b01638a3-8011-4bee-89b1-9efadc6e05da",
   "metadata": {},
   "outputs": [],
   "source": []
  },
  {
   "cell_type": "code",
   "execution_count": null,
   "id": "111c7ed3-e010-4b41-b6ab-240500088cea",
   "metadata": {},
   "outputs": [],
   "source": []
  },
  {
   "cell_type": "code",
   "execution_count": null,
   "id": "c4a9a506-e12f-4e06-b9db-5a813929a349",
   "metadata": {},
   "outputs": [],
   "source": []
  }
 ],
 "metadata": {
  "kernelspec": {
   "display_name": "Python 3 (ipykernel)",
   "language": "python",
   "name": "python3"
  },
  "language_info": {
   "codemirror_mode": {
    "name": "ipython",
    "version": 3
   },
   "file_extension": ".py",
   "mimetype": "text/x-python",
   "name": "python",
   "nbconvert_exporter": "python",
   "pygments_lexer": "ipython3",
   "version": "3.12.4"
  }
 },
 "nbformat": 4,
 "nbformat_minor": 5
}
